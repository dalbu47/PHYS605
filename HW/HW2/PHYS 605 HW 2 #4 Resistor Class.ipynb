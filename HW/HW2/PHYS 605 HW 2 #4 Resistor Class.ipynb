{
 "cells": [
  {
   "cell_type": "code",
   "execution_count": 3,
   "id": "initial_id",
   "metadata": {
    "collapsed": true,
    "ExecuteTime": {
     "end_time": "2024-02-17T03:55:13.207008300Z",
     "start_time": "2024-02-17T03:55:13.198032100Z"
    }
   },
   "outputs": [
    {
     "name": "stdout",
     "output_type": "stream",
     "text": [
      "10000.00Ω, 0.04W\n"
     ]
    }
   ],
   "source": [
    "import Electronics as el\n",
    "from Electronics import Resistor as R\n",
    "\n",
    "#Doing some calculation, every 5kOhm resistor has 1/50 Watts, while the 10k has 1/25\n",
    "\n",
    "R1 = R(5000,1./50.)\n",
    "R2 = R(10000,1./25.)\n",
    "R3 = R(5000,1./50.)\n",
    "R4 = R(5000,1./50.)\n",
    "\n",
    "R34 = (R.__add__(R3,R4))\n",
    "R234 = R.__mul__(R2,R34)\n",
    "Req = R.__add__(R1,R234)\n",
    "print(Req) #prints 10000.00Ω, 0.04W\n",
    "#Not what I got for Rth on #3 for HW 1 as I didn't ge the Req for every resistor in the circuit.\n",
    "#I did, however, get #4 right on HW 1\n",
    "#I tried modifying Electronics.py to measure tolerance as well but didn't know exactly how to add calculations for tolerance or implement them into the functions well. "
   ]
  }
 ],
 "metadata": {
  "kernelspec": {
   "display_name": "Python 3",
   "language": "python",
   "name": "python3"
  },
  "language_info": {
   "codemirror_mode": {
    "name": "ipython",
    "version": 2
   },
   "file_extension": ".py",
   "mimetype": "text/x-python",
   "name": "python",
   "nbconvert_exporter": "python",
   "pygments_lexer": "ipython2",
   "version": "2.7.6"
  }
 },
 "nbformat": 4,
 "nbformat_minor": 5
}
